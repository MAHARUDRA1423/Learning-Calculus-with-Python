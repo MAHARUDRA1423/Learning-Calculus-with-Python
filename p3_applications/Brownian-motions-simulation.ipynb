{
 "cells": [
  {
   "cell_type": "markdown",
   "metadata": {},
   "source": [
    "# Simulating Brownian Motion"
   ]
  },
  {
   "cell_type": "markdown",
   "metadata": {},
   "source": [
    "## Simulation Parameters\n",
    "\n",
    "1. elastic collision\n",
    "2. detect collision - adaptive timestep\n",
    "3. collision with wall\n",
    "4. collision with wall with gravity"
   ]
  },
  {
   "cell_type": "code",
   "execution_count": null,
   "metadata": {},
   "outputs": [],
   "source": [
    "\"\"\" BROWNIAN MOTION, physical basis:\n",
    "\n",
    "elastic collision\n",
    "\n",
    "    vr = v1-v2\n",
    "    xr = x1-x2\n",
    "\n",
    "    v1new = v1 - 2*m2/(m1+m2)*vr.dot(vr)/xr.dot(xr)*xr\n",
    "    v2new = v2 + 2*m1/(m1+m2)*vr.dot(vr)/xr.dot(xr)*xr\n",
    "\n",
    "detect collision - adaptive timestep\n",
    "\n",
    "    s   particle size (radius)\n",
    "    |xr|**2 + 2*(xr.dot(vr))*t + |vr|**2*t**2 = 4s**2\n",
    "\n",
    "    solve for tmin, but tmin > 0\n",
    "\n",
    "collision with wall\n",
    "\n",
    "    t = (L - x0)/u, (H - y0)/v, -x0/u, -y0/v\n",
    "\n",
    "    find smallest t.\n",
    "\n",
    "collision with wall with gravity\n",
    "\n",
    "    t = v/g +- sqrt((v/g)**2 + 2/g*(y0-H))\n",
    "\n",
    "\"\"\"\n",
    "# code source http://www.milank.de/brownian-motion#main\n",
    "## BROWNIAN MOTION\n",
    "import numpy as np\n",
    "import matplotlib.pyplot as plt\n",
    "from scipy import sparse\n",
    "import glob\n",
    "\n",
    "# parameters\n",
    "N = 100           # number of particles\n",
    "Nt = 1000       # number of time steps\n",
    "dtmax = 1e-1    # maximum time step\n",
    "g = 1.          # gravity acceleration\n",
    "s = 1e-2          # size of particles\n",
    "ef = 1e-15      # tolerance error around boundaries\n",
    "\n",
    "# periodic in x,y? only 1,0 allowed\n",
    "periodicx = 0\n",
    "periodicy = 0\n",
    "\n",
    "# domain\n",
    "L = 2.\n",
    "H = 1.\n",
    "ez = np.array([0,1])\n",
    "\n",
    "# initial conditions\n",
    "r = np.random.rand(2,N)\n",
    "r[0,:] *= L\n",
    "r[1,:] *= H\n",
    "\n",
    "# separate in two groups\n",
    "Nhalf = int(N/2)\n",
    "r[0,:Nhalf] *= 0.5\n",
    "r[0,Nhalf:] *= 0.5\n",
    "r[0,Nhalf:] += (L*0.5)\n",
    "\n",
    "# intial velocity\n",
    "uv = np.random.rand(2,N)-.5\n",
    "\n",
    "# stroing simulation output\n",
    "storing = 1 # 1 for storing 0 for no storing\n",
    "path = './'\n",
    "fstore = 5     # storing frequency, every fstore'th timestep\n"
   ]
  },
  {
   "cell_type": "markdown",
   "metadata": {},
   "source": [
    "## difference operator"
   ]
  },
  {
   "cell_type": "code",
   "execution_count": null,
   "metadata": {},
   "outputs": [],
   "source": [
    "def Dmat(N):\n",
    "    \"\"\" Dmat(N) creates a difference matrix D to compute all relative positions (or velocities) of a set of N particles. Return D as sparse csr matrix, for fast matrix-vector multiplication. Didx provides a vector which elements are the particle indices that correspond to a certain difference in the resulting vector of D.dot(x).\"\"\"\n",
    "\n",
    "    D = np.zeros((int(N*(N-1)/2),N)).astype(np.int)\n",
    "\n",
    "    for i in range(N-1):\n",
    "        j = sum(range(N-i,N))\n",
    "        D[j:j+N-i-1,i] = 1\n",
    "        D[range(j,j+N-i-1),range(i+1,N)] = -1\n",
    "\n",
    "    # index to particles n,m\n",
    "    idx2nm = np.where(D)[1].reshape(-1,2)\n",
    "    return sparse.csr_matrix(D),idx2nm\n",
    "\n",
    "D,idx2nm = Dmat(N)\n",
    "\n",
    "def nm2idx(n,m):\n",
    "    return sum(range(N-n,N))+m-n-1"
   ]
  },
  {
   "cell_type": "markdown",
   "metadata": {},
   "source": [
    "## defining Wall collusion"
   ]
  },
  {
   "cell_type": "code",
   "execution_count": null,
   "metadata": {},
   "outputs": [],
   "source": [
    "## functions\n",
    "def wallcollision(x,y,u,v):\n",
    "    \"\"\" Computes new positions and velocity for particles that collide with a wall.\n",
    "    Due to adaptive time stepping, particles will sit directly on the wall. However,\n",
    "    allow for rounding errors by setting ef larger than machine precision.\"\"\"\n",
    "\n",
    "    # boolean array to determine particles close to a wall\n",
    "    xL = (x >= (L-ef))\n",
    "    x0 = (x <= ef)\n",
    "    yH = (y >= (H-ef))\n",
    "    y0 = (y <= ef)\n",
    "\n",
    "    # store previous vertical coordinates for energy fix computation\n",
    "    y0pre = y[y0]\n",
    "    yHpre = y[yH]\n",
    "\n",
    "    # mirror position across wall or apply periodic boundaries\n",
    "    # but place at least 2*ef away from the wall\n",
    "    x[xL] = (2.*L - x[xL] + periodicx*(2*x[xL] - 3*L)).clip(2*ef,L-2*ef)\n",
    "    x[x0] = (-x[x0] + periodicx*L).clip(2*ef,L-2*ef)\n",
    "    y[yH] = (2.*H - y[yH] + periodicy*(2*y[yH] - 3*H)).clip(2*ef,H-2*ef)\n",
    "    y[y0] = (-y[y0] + periodicy*H).clip(2*ef,H-2*ef)\n",
    "\n",
    "    # reverse momentum or not for periodic boundaries\n",
    "    u[xL+x0] = u[xL+x0]*(-1 + 2*periodicx)\n",
    "    v[yH+y0] = v[yH+y0]*(-1 + 2*periodicy)\n",
    "\n",
    "    # energy fix\n",
    "    v[y0] = np.sign(v[y0])*(1-periodicy)*np.sqrt(v[y0]**2 - 2*g*(y[y0] - y0pre))\n",
    "    v[yH] = np.sign(v[yH])*(1-periodicy)*np.sqrt(v[yH]**2 - 2*g*(y[yH] - yHpre))\n",
    "\n",
    "    return np.vstack((x,y)),np.vstack((u,v))"
   ]
  },
  {
   "cell_type": "markdown",
   "metadata": {},
   "source": [
    "## change in momentum based on velocity"
   ]
  },
  {
   "cell_type": "code",
   "execution_count": null,
   "metadata": {},
   "outputs": [],
   "source": [
    "def mom_exchange(r1,r2,uv1,uv2):\n",
    "    \"\"\" change momentum based on velocity. \"\"\"\n",
    "\n",
    "    dr = r1-r2\n",
    "    duv = uv1-uv2\n",
    "    uv1 = uv1 - duv.dot(dr) / dr.dot(dr) * dr\n",
    "    uv2 = uv2 + duv.dot(dr) / dr.dot(dr) * dr\n",
    "\n",
    "    return uv1,uv2"
   ]
  },
  {
   "cell_type": "markdown",
   "metadata": {},
   "source": [
    "## functions for timestepping"
   ]
  },
  {
   "cell_type": "code",
   "execution_count": null,
   "metadata": {},
   "outputs": [],
   "source": [
    "def timestep(x,y,u,v,col_nm):\n",
    "    \"\"\" computes the smallest time step till next collision with a wall.\n",
    "    In case this is larger than dtmax, return dtmax instead. This function\n",
    "    ignores any effect of g.\"\"\"\n",
    "\n",
    "    # time till wall collision\n",
    "    txL = (L - s - x)/u\n",
    "    tx0 = (s-x)/u\n",
    "\n",
    "    if g > 0: # the gravity case\n",
    "        tyH = pq(-2*v/g,-2/g*(y-H+s))\n",
    "        ty0 = pq(-2*v/g,-2/g*(y-s))\n",
    "\n",
    "    else:\n",
    "        tyH = (H - s - y)/v\n",
    "        ty0 = (s-y)/v\n",
    "\n",
    "    # concatenate and find positive minimum\n",
    "    tw = np.array((txL,tx0,tyH,ty0))\n",
    "    twmin = tw[tw>0].clip(0,dtmax).min()\n",
    "\n",
    "    # time till next particle collision\n",
    "    tc = time_to_particle_collision(x,y,u,v)\n",
    "\n",
    "    # if previous collison set their time to dtmax\n",
    "    if len(col_nm):\n",
    "        tc[nm2idx(*col_nm)] = dtmax\n",
    "\n",
    "    if N > 1:\n",
    "        tcmin = tc.min()\n",
    "    else:   # there are no collision for one particle\n",
    "        tcmin = 2*dtmax\n",
    "\n",
    "    # find colliding particles\n",
    "    if tcmin < twmin:\n",
    "        col_nm = idx2nm[np.where(tc == tcmin)[0][0]]\n",
    "    else:\n",
    "        col_nm = np.empty(0)\n",
    "\n",
    "    return min(twmin,tcmin),col_nm"
   ]
  },
  {
   "cell_type": "markdown",
   "metadata": {},
   "source": [
    "## quadratic equation solver "
   ]
  },
  {
   "cell_type": "code",
   "execution_count": null,
   "metadata": {},
   "outputs": [],
   "source": [
    "def pq(p,q):\n",
    "    \"\"\" Solves a quadratic equation of the form\n",
    "        x**2 + p*x + q = 0. Fills nans and negatives with dtmax.\n",
    "        Also eliminate tiny (i.e. < ef) dt estimates and replace them with\n",
    "        dtmax to avoid tiny timesteps.\"\"\"\n",
    "    x = -p/2. + np.outer(np.array([1.,-1]),np.sqrt((p/2.)**2 - q))\n",
    "    x[np.logical_or(np.isnan(x),x < ef)] = dtmax\n",
    "    return x.min(axis=0)"
   ]
  },
  {
   "cell_type": "markdown",
   "metadata": {},
   "source": [
    "## Time computes for particle collusion"
   ]
  },
  {
   "cell_type": "code",
   "execution_count": null,
   "metadata": {},
   "outputs": [],
   "source": [
    "def time_to_particle_collision(x,y,u,v):\n",
    "    \"\"\" Computes the time for each particle pair of size s till collision.\n",
    "    Replaces all times for particles being closer than 2*s by dtmax, to avoid\n",
    "    them being caught within each other.\"\"\"\n",
    "    xr = D.dot(x)\n",
    "    yr = D.dot(y)\n",
    "    ur = D.dot(u)\n",
    "    vr = D.dot(v)\n",
    "\n",
    "    xrm = xr**2 + yr**2\n",
    "    vrm = ur**2 + vr**2\n",
    "\n",
    "    # solve quadratic equation\n",
    "    p = 2*(xr*ur + yr*vr) / vrm\n",
    "    q = (xrm - 4*s**2) / vrm\n",
    "    t = pq(p,q)\n",
    "\n",
    "    # this line is important to avoid stuck particle pairs\n",
    "    t[xrm <= 4*s**2] = dtmax\n",
    "    return t"
   ]
  },
  {
   "cell_type": "markdown",
   "metadata": {},
   "source": [
    "## time step simulation"
   ]
  },
  {
   "cell_type": "code",
   "execution_count": null,
   "metadata": {},
   "outputs": [],
   "source": [
    "## time loop - euler forward\n",
    "# collision indices n,m indicating which particles did collide\n",
    "col_nm = np.empty(0)\n",
    "\n",
    "# preallocate storage matrix\n",
    "R = np.empty((2,N,int(Nt/fstore)+1))\n",
    "tvec = np.empty((int(Nt/fstore)+1))\n",
    "dt = 0.\n",
    "t = 0.\n",
    "\n",
    "# store initial conditions\n",
    "istore = 0\n",
    "R[:,:,istore] = r\n",
    "tvec[istore] = t\n",
    "\n",
    "for i in range(Nt-1):\n",
    "\n",
    "    dt,col_nm = timestep(*r,*uv,col_nm)\n",
    "\n",
    "    r += (dt*uv.T - g/2.*dt**2*ez).T\n",
    "    uv[1,:] -= dt*g\n",
    "\n",
    "    if len(col_nm): # next collision is particle collision\n",
    "        n,m = col_nm    # of particles n and m\n",
    "        uv[:,n],uv[:,m] = mom_exchange(r[:,n],r[:,m],uv[:,n],uv[:,m])\n",
    "    else: # next collision is wall collision\n",
    "        r,uv = wallcollision(*r,*uv)\n",
    "\n",
    "    t += dt\n",
    "\n",
    "    # feedback on integration progress\n",
    "    if ((i+1)/Nt*100 % 5) < (i/Nt*100 % 5):\n",
    "        print(str(int((i+1)/Nt*100.))+'%')\n",
    "\n",
    "    if i % fstore == 0:\n",
    "        istore += 1\n",
    "        R[:,:,istore] = r\n",
    "        tvec[istore] = t"
   ]
  },
  {
   "cell_type": "markdown",
   "metadata": {},
   "source": [
    "## saving the values "
   ]
  },
  {
   "cell_type": "code",
   "execution_count": null,
   "metadata": {},
   "outputs": [],
   "source": [
    "np.save(path+'dat_brownian.npy',dict(R=R,t=tvec,s=s,L=L,H=H,g=g,N=N,Nt=Nt))"
   ]
  },
  {
   "cell_type": "code",
   "execution_count": null,
   "metadata": {},
   "outputs": [],
   "source": [
    "np.load('dat_brownian.npy',allow_pickle = True).all()"
   ]
  },
  {
   "cell_type": "markdown",
   "metadata": {},
   "source": [
    "# Plotting the particle position in each time step"
   ]
  },
  {
   "cell_type": "code",
   "execution_count": null,
   "metadata": {},
   "outputs": [],
   "source": [
    "## code from https://github.com/milankl/brownian\n",
    "## Refer the repository for licence\n",
    "## BROWNIAN MOTION - PLOT\n",
    "import numpy as np\n",
    "import matplotlib.pyplot as plt\n",
    "from scipy import sparse\n",
    "import os\n",
    "\n",
    "# load data\n",
    "runid = 0\n",
    "path = '' # use relative path\n",
    "\n",
    "\n",
    "d = np.load(path+'dat_brownian.npy',allow_pickle = True).all()\n",
    "d['Nhalf'] = int(d['N']/2)\n",
    "\n",
    "def foldercreator(path):\n",
    "    if not os.path.exists(path):\n",
    "        os.makedirs(path)\n",
    "\n",
    "pngfolder=path+'output'\n",
    "foldercreator(pngfolder)        \n",
    "        \n",
    "## plotting\n",
    "for i in range(d['R'].shape[-1]): # loop over timesteps\n",
    "    fig,ax = plt.subplots(1,1,figsize=(4*d['L'],4*d['H']))\n",
    "    plt.tight_layout()\n",
    "    S = np.diff(ax.transData.transform([0,3.5*d['s']]))[0]\n",
    "    Q = ax.scatter(d['R'][0,:,i],d['R'][1,:,i],S**2,['C3']*d['Nhalf']+['C0']*(d['N']-d['Nhalf']))\n",
    "    ax.set_xlim(0,d['L'])\n",
    "    ax.set_ylim(0,d['H'])\n",
    "    ax.set_xticks([])\n",
    "    ax.set_yticks([])\n",
    "    ax.set_xlabel('x')\n",
    "    ax.set_ylabel('y')\n",
    "    plt.tight_layout()\n",
    "    plt.savefig(pngfolder+'/'+str(i)+'.png')\n",
    "#     else:\n",
    "#         Q.set_offsets(d['R'][:,:,i].T)\n",
    "#         plt.pause(0.0001)\n"
   ]
  },
  {
   "cell_type": "markdown",
   "metadata": {},
   "source": [
    "## Stitching the plots and animation creation"
   ]
  },
  {
   "cell_type": "code",
   "execution_count": null,
   "metadata": {},
   "outputs": [],
   "source": [
    "import moviepy.editor as mpy\n",
    "import os\n",
    "import glob\n",
    "import ntpath\n",
    "import pandas as pd\n",
    "\n",
    "def path_leaf(path):\n",
    "    head, tail = ntpath.split(path)\n",
    "    return tail or ntpath.basename(head)\n",
    "\n",
    "#location of map png files\n",
    "pngdir=path+'output/'\n",
    "\n",
    "#choose the fpz\n",
    "chosenfps=1\n",
    "\n",
    "#choose the output format. 'mp4' or 'gif'\n",
    "outputformat='mp4'\n",
    "\n",
    "# choose the file name\n",
    "outfilename='brownian_motion'\n",
    "\n",
    "\n",
    "pngfiles=glob.glob(pngdir+'*.png')\n",
    "\n",
    "\n",
    "db=pd.DataFrame(pngfiles)\n",
    "db.columns=['fullpath']\n",
    "db['filename']=db['fullpath'].map(path_leaf)\n",
    "db['filenumber'] =db['filename'].apply(lambda x: x.split('.')[0])\n",
    "db['filenumber'] = db['filenumber'].astype(float)\n",
    "db1=db.sort_values('filenumber')\n",
    "sortedfilename=db1['fullpath'].tolist()\n",
    "\n",
    "output_base_name=pngdir+outfilename+'.'+outputformat\n",
    "clipdur=[1]*len(sortedfilename)\n",
    "clip = mpy.ImageSequenceClip(sortedfilename, durations=clipdur, load_images=True)\n",
    "\n",
    "\n",
    "if outputformat=='mp4':\n",
    "    clip.write_videofile(output_base_name,audio=False,fps=chosenfps )\n",
    "else:\n",
    "    clip.write_gif(output_base_name,program='ImageMagick',opt='optimizeplus',fuzz=1,fps=chosenfps )"
   ]
  }
 ],
 "metadata": {
  "kernelspec": {
   "display_name": "Python 3",
   "language": "python",
   "name": "python3"
  },
  "language_info": {
   "codemirror_mode": {
    "name": "ipython",
    "version": 3
   },
   "file_extension": ".py",
   "mimetype": "text/x-python",
   "name": "python",
   "nbconvert_exporter": "python",
   "pygments_lexer": "ipython3",
   "version": "3.6.8"
  },
  "toc": {
   "base_numbering": 1,
   "nav_menu": {},
   "number_sections": true,
   "sideBar": true,
   "skip_h1_title": false,
   "title_cell": "Table of Contents",
   "title_sidebar": "Contents",
   "toc_cell": false,
   "toc_position": {},
   "toc_section_display": true,
   "toc_window_display": false
  }
 },
 "nbformat": 4,
 "nbformat_minor": 2
}
