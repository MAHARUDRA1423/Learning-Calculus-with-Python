{
 "cells": [
  {
   "cell_type": "markdown",
   "metadata": {},
   "source": [
    "## Mathusian-Verhulst-logistic-population-model\n"
   ]
  },
  {
   "cell_type": "code",
   "execution_count": 3,
   "metadata": {},
   "outputs": [],
   "source": [
    "## code from http://publish.illinois.edu/pillsburydoughcat/hw3-2/\n",
    "\n",
    "import numpy as np #import library\n",
    " \n",
    "n = 365 #number of times the code loops\n",
    "dt = 1.0 #timestep\n",
    "alpha=0.1#growth rate\n",
    "K=2000.#carrying capacity\n",
    "model = np.zeros((n,2)) #model, dependent\n",
    "#and independent variables\n",
    " \n",
    "model[0,0]=1#dependent initial condition\n",
    "model[0,1]=100.#independent initial condition\n",
    " \n",
    "for i in range(1,n):\n",
    "     model[i,0]=model[i,0]+dt\n",
    "     model[i,1]=model[i-1,1]\\\n",
    "     +dt*alpha*model[i-1,1]*(1-model[i-1,1]/K)"
   ]
  },
  {
   "cell_type": "markdown",
   "metadata": {},
   "source": [
    "## Population simulation"
   ]
  },
  {
   "cell_type": "code",
   "execution_count": 4,
   "metadata": {},
   "outputs": [
    {
     "ename": "OSError",
     "evalue": "fish_migration.txt not found.",
     "output_type": "error",
     "traceback": [
      "\u001b[0;31m---------------------------------------------------------------------------\u001b[0m",
      "\u001b[0;31mOSError\u001b[0m                                   Traceback (most recent call last)",
      "\u001b[0;32m<ipython-input-4-d1d5d1245cfc>\u001b[0m in \u001b[0;36m<module>\u001b[0;34m()\u001b[0m\n\u001b[1;32m      5\u001b[0m \u001b[0;32mfrom\u001b[0m \u001b[0mmatplotlib\u001b[0m \u001b[0;32mimport\u001b[0m \u001b[0mpyplot\u001b[0m \u001b[0;32mas\u001b[0m \u001b[0mplt\u001b[0m\u001b[0;34m\u001b[0m\u001b[0;34m\u001b[0m\u001b[0m\n\u001b[1;32m      6\u001b[0m \u001b[0;34m\u001b[0m\u001b[0m\n\u001b[0;32m----> 7\u001b[0;31m \u001b[0mmigration_rate\u001b[0m \u001b[0;34m=\u001b[0m \u001b[0mnp\u001b[0m\u001b[0;34m.\u001b[0m\u001b[0mloadtxt\u001b[0m\u001b[0;34m(\u001b[0m\u001b[0;34m'fish_migration.txt'\u001b[0m\u001b[0;34m)\u001b[0m\u001b[0;34m\u001b[0m\u001b[0;34m\u001b[0m\u001b[0m\n\u001b[0m\u001b[1;32m      8\u001b[0m \u001b[0momegaMIN\u001b[0m \u001b[0;34m=\u001b[0m \u001b[0;36m0.0009126\u001b[0m\u001b[0;34m\u001b[0m\u001b[0;34m\u001b[0m\u001b[0m\n\u001b[1;32m      9\u001b[0m \u001b[0momegaONE\u001b[0m \u001b[0;34m=\u001b[0m \u001b[0;36m0.000000001\u001b[0m\u001b[0;34m\u001b[0m\u001b[0;34m\u001b[0m\u001b[0m\n",
      "\u001b[0;32m/opt/conda/lib/python3.6/site-packages/numpy/lib/npyio.py\u001b[0m in \u001b[0;36mloadtxt\u001b[0;34m(fname, dtype, comments, delimiter, converters, skiprows, usecols, unpack, ndmin, encoding, max_rows)\u001b[0m\n\u001b[1;32m    966\u001b[0m             \u001b[0mfname\u001b[0m \u001b[0;34m=\u001b[0m \u001b[0mos_fspath\u001b[0m\u001b[0;34m(\u001b[0m\u001b[0mfname\u001b[0m\u001b[0;34m)\u001b[0m\u001b[0;34m\u001b[0m\u001b[0;34m\u001b[0m\u001b[0m\n\u001b[1;32m    967\u001b[0m         \u001b[0;32mif\u001b[0m \u001b[0m_is_string_like\u001b[0m\u001b[0;34m(\u001b[0m\u001b[0mfname\u001b[0m\u001b[0;34m)\u001b[0m\u001b[0;34m:\u001b[0m\u001b[0;34m\u001b[0m\u001b[0;34m\u001b[0m\u001b[0m\n\u001b[0;32m--> 968\u001b[0;31m             \u001b[0mfh\u001b[0m \u001b[0;34m=\u001b[0m \u001b[0mnp\u001b[0m\u001b[0;34m.\u001b[0m\u001b[0mlib\u001b[0m\u001b[0;34m.\u001b[0m\u001b[0m_datasource\u001b[0m\u001b[0;34m.\u001b[0m\u001b[0mopen\u001b[0m\u001b[0;34m(\u001b[0m\u001b[0mfname\u001b[0m\u001b[0;34m,\u001b[0m \u001b[0;34m'rt'\u001b[0m\u001b[0;34m,\u001b[0m \u001b[0mencoding\u001b[0m\u001b[0;34m=\u001b[0m\u001b[0mencoding\u001b[0m\u001b[0;34m)\u001b[0m\u001b[0;34m\u001b[0m\u001b[0;34m\u001b[0m\u001b[0m\n\u001b[0m\u001b[1;32m    969\u001b[0m             \u001b[0mfencoding\u001b[0m \u001b[0;34m=\u001b[0m \u001b[0mgetattr\u001b[0m\u001b[0;34m(\u001b[0m\u001b[0mfh\u001b[0m\u001b[0;34m,\u001b[0m \u001b[0;34m'encoding'\u001b[0m\u001b[0;34m,\u001b[0m \u001b[0;34m'latin1'\u001b[0m\u001b[0;34m)\u001b[0m\u001b[0;34m\u001b[0m\u001b[0;34m\u001b[0m\u001b[0m\n\u001b[1;32m    970\u001b[0m             \u001b[0mfh\u001b[0m \u001b[0;34m=\u001b[0m \u001b[0miter\u001b[0m\u001b[0;34m(\u001b[0m\u001b[0mfh\u001b[0m\u001b[0;34m)\u001b[0m\u001b[0;34m\u001b[0m\u001b[0;34m\u001b[0m\u001b[0m\n",
      "\u001b[0;32m/opt/conda/lib/python3.6/site-packages/numpy/lib/_datasource.py\u001b[0m in \u001b[0;36mopen\u001b[0;34m(path, mode, destpath, encoding, newline)\u001b[0m\n\u001b[1;32m    267\u001b[0m \u001b[0;34m\u001b[0m\u001b[0m\n\u001b[1;32m    268\u001b[0m     \u001b[0mds\u001b[0m \u001b[0;34m=\u001b[0m \u001b[0mDataSource\u001b[0m\u001b[0;34m(\u001b[0m\u001b[0mdestpath\u001b[0m\u001b[0;34m)\u001b[0m\u001b[0;34m\u001b[0m\u001b[0;34m\u001b[0m\u001b[0m\n\u001b[0;32m--> 269\u001b[0;31m     \u001b[0;32mreturn\u001b[0m \u001b[0mds\u001b[0m\u001b[0;34m.\u001b[0m\u001b[0mopen\u001b[0m\u001b[0;34m(\u001b[0m\u001b[0mpath\u001b[0m\u001b[0;34m,\u001b[0m \u001b[0mmode\u001b[0m\u001b[0;34m,\u001b[0m \u001b[0mencoding\u001b[0m\u001b[0;34m=\u001b[0m\u001b[0mencoding\u001b[0m\u001b[0;34m,\u001b[0m \u001b[0mnewline\u001b[0m\u001b[0;34m=\u001b[0m\u001b[0mnewline\u001b[0m\u001b[0;34m)\u001b[0m\u001b[0;34m\u001b[0m\u001b[0;34m\u001b[0m\u001b[0m\n\u001b[0m\u001b[1;32m    270\u001b[0m \u001b[0;34m\u001b[0m\u001b[0m\n\u001b[1;32m    271\u001b[0m \u001b[0;34m\u001b[0m\u001b[0m\n",
      "\u001b[0;32m/opt/conda/lib/python3.6/site-packages/numpy/lib/_datasource.py\u001b[0m in \u001b[0;36mopen\u001b[0;34m(self, path, mode, encoding, newline)\u001b[0m\n\u001b[1;32m    621\u001b[0m                                       encoding=encoding, newline=newline)\n\u001b[1;32m    622\u001b[0m         \u001b[0;32melse\u001b[0m\u001b[0;34m:\u001b[0m\u001b[0;34m\u001b[0m\u001b[0;34m\u001b[0m\u001b[0m\n\u001b[0;32m--> 623\u001b[0;31m             \u001b[0;32mraise\u001b[0m \u001b[0mIOError\u001b[0m\u001b[0;34m(\u001b[0m\u001b[0;34m\"%s not found.\"\u001b[0m \u001b[0;34m%\u001b[0m \u001b[0mpath\u001b[0m\u001b[0;34m)\u001b[0m\u001b[0;34m\u001b[0m\u001b[0;34m\u001b[0m\u001b[0m\n\u001b[0m\u001b[1;32m    624\u001b[0m \u001b[0;34m\u001b[0m\u001b[0m\n\u001b[1;32m    625\u001b[0m \u001b[0;34m\u001b[0m\u001b[0m\n",
      "\u001b[0;31mOSError\u001b[0m: fish_migration.txt not found."
     ]
    }
   ],
   "source": [
    "## http://publish.illinois.edu/pillsburydoughcat/hw3-2/hw3-supplementary-material/\n",
    "\n",
    "%matplotlib inline\n",
    "import numpy as np\n",
    "from matplotlib import pyplot as plt\n",
    " \n",
    "migration_rate = np.loadtxt('fish_migration.txt')\n",
    "omegaMIN = 0.0009126\n",
    "omegaONE = 0.000000001\n",
    "rate_Coho = 5.6E6*(0.75)/365.25 #*0.75coho/fish * year/365.25 days\n",
    "max_Coho = 5.6E6*(0.75)*3.0 #*0.75coho/fish * 3 years\n",
    "arr_len = 60\n",
    "dt = 1.0\n",
    "model = np.zeros((arr_len,2))\n",
    "rates = np.zeros((arr_len-1,3))\n",
    "model[0,0]=1.\n",
    "model[0,1]=max_Coho\n",
    " \n",
    "for t in xrange(1,arr_len):\n",
    "    model[t,0] = float(t)+1.\n",
    "    rates[t-1,0] = rate_Coho\n",
    "    rates[t-1,1] = -migration_rate[t-1,1]\n",
    "    rates[t-1,2] = -(omegaMIN + omegaONE * model[t-1,1]) * model[t-1,1]\n",
    "    model[t,1] = model[t-1,1] + dt * (sum(rates[t-1,:]) )\n",
    "if model[t,1]<0:\n",
    "    model[t,1]=0\n",
    "\n",
    "plt.figure(1)\n",
    "plt.plot(model[:,0],model[:,1])\n",
    "plt.xlabel('time [days]')\n",
    "plt.ylabel('populations [# of fish]')\n",
    "plt.ylim(0,max(model[:,1]))\n",
    "plt.figure(2)\n",
    "plt.plot(model[:-1,0],rates[:,0],label='stocking')\n",
    "plt.plot(model[:-1,0],-rates[:,1],label='migration out')\n",
    "plt.plot(model[:-1,0],-rates[:,2],label='death rate')\n",
    "plt.legend(loc='best')\n",
    "plt.xlabel('time [days]')\n",
    "plt.ylabel(r'$rate [\\frac{fish}{days}]$')\n",
    "plt.show()"
   ]
  },
  {
   "cell_type": "code",
   "execution_count": null,
   "metadata": {},
   "outputs": [],
   "source": [
    "## Solution to Verhulst using 4th order Runga-Kutta"
   ]
  },
  {
   "cell_type": "code",
   "execution_count": 5,
   "metadata": {},
   "outputs": [
    {
     "ename": "SyntaxError",
     "evalue": "invalid syntax (<ipython-input-5-bcfe72536049>, line 1)",
     "output_type": "error",
     "traceback": [
      "\u001b[0;36m  File \u001b[0;32m\"<ipython-input-5-bcfe72536049>\"\u001b[0;36m, line \u001b[0;32m1\u001b[0m\n\u001b[0;31m    &lt;br data-mce-bogus=\"1\"&gt;\u001b[0m\n\u001b[0m    ^\u001b[0m\n\u001b[0;31mSyntaxError\u001b[0m\u001b[0;31m:\u001b[0m invalid syntax\n"
     ]
    }
   ],
   "source": [
    "&lt;br data-mce-bogus=\"1\"&gt;\n",
    "%matplotlib inline\n",
    "import numpy as np\n",
    "import matplotlib.pyplot as plt\n",
    " \n",
    "#numerical parameters\n",
    "n = 31 #length of array\n",
    "dt = 10. #time step\n",
    " \n",
    "#Verhulst parameters\n",
    "alpha = .1 #growth rate\n",
    "K = 1000. #carrying capacity\n",
    " \n",
    "#create arrays\n",
    "N_numerical = np.zeros((n,3)) #make N arrray\n",
    "N_analyical = np.zeros((n,1)) #make N arrray\n",
    "t = np.linspace(0,(float(n)-1.)*dt,num=n) #make t array at constant interval\n",
    " \n",
    "#initial condition\n",
    "N_initial = 1.0\n",
    " \n",
    "###FUNCTIONS\n",
    "#Verhulst Analytical Solution\n",
    "def verhulst_analytical(alpha,K,N_initial,t):\n",
    "    N = (K * N_initial * np.exp(alpha*t))/(K+N_initial*(np.exp(alpha*t)-1.))\n",
    "    return N\n",
    " \n",
    "#Verhulst Numerical Integrator\n",
    "def verhulst_rate(N,alpha,K):\n",
    "    rate = alpha * N * (1.0 - N / K)\n",
    "    return rate\n",
    " \n",
    "#Euler\n",
    "def euler(Nini,tini,alpha,K,dt,n):\n",
    "    N = np.zeros((n))\n",
    "    N[0] = Nini\n",
    "    for i in xrange(1,n):\n",
    "        rate = dt * verhulst_rate(N[i-1],alpha,K)\n",
    "        N[i] = N[i-1] + rate\n",
    "    return N\n",
    " \n",
    "#2nd order runga kutta\n",
    "def runga_kutta_2(Nini,tini,alpha,K,dt,n):\n",
    "    N = np.zeros((n))\n",
    "    N[0] = Nini\n",
    "    for i in xrange(1,n):\n",
    "        k1 = dt * verhulst_rate(N[i-1],alpha,K)\n",
    "        k2 = dt * verhulst_rate((N[i-1]+k1/2.0),alpha,K)\n",
    "        N[i] = N[i-1] + k2\n",
    "    return N\n",
    " \n",
    "#4th order runga kutta\n",
    "def runga_kutta_4(Nini,tini,alpha,K,dt,n):\n",
    "    N = np.zeros((n))\n",
    "    N[0] = Nini\n",
    "    for i in xrange(1,n):\n",
    "        k1 = dt * verhulst_rate(N[i-1],alpha,K)\n",
    "        k2 = dt * verhulst_rate((N[i-1]+k1/2.0),alpha,K)\n",
    "        k3 = dt * verhulst_rate((N[i-1]+k2/2.0),alpha,K)\n",
    "        k4 = dt * verhulst_rate((N[i-1]+k3),alpha,K)\n",
    "        N[i] = N[i-1] + k1/6.0 + k2/3.0 + k3/3.0 + k4/6.0\n",
    "    return N\n",
    " \n",
    "#euler\n",
    "N_numerical[:,0] = euler(N_initial,0,alpha,K,dt,n)\n",
    " \n",
    "#2nd order runga kutta    \n",
    "N_numerical[:,1] = runga_kutta_2(N_initial,0,alpha,K,dt,n)\n",
    " \n",
    "#4th order runga kutta    \n",
    "N_numerical[:,2] = runga_kutta_4(N_initial,0,alpha,K,dt,n)\n",
    "     \n",
    "#analytical soln\n",
    "N_analytical = verhulst_analytical(alpha,K,N_initial,t)\n",
    " \n",
    "plt.figure(1,facecolor = 'white')\n",
    "plt.plot(t,N_numerical[:,0],label='Euler Method')\n",
    "plt.plot(t,N_numerical[:,1],label=r'$2^{nd}$ Order Runga Kutta')\n",
    "plt.plot(t,N_numerical[:,2],label=r'$4^{th}$ Order Runga Kutta')\n",
    "plt.plot(t,N_analytical,label='Analytical Solution',ls='--',lw = 2)\n",
    "plt.legend(loc='best')\n",
    "plt.xlim(0,250)\n",
    "plt.xlabel('time [T]')\n",
    "plt.ylabel('populations [# of individuals]')\n",
    "plt.savefig('Euler_and_2_4Runga.png')\n",
    "plt.show()"
   ]
  },
  {
   "cell_type": "code",
   "execution_count": 1,
   "metadata": {},
   "outputs": [
    {
     "ename": "NameError",
     "evalue": "name 'xrange' is not defined",
     "output_type": "error",
     "traceback": [
      "\u001b[0;31m---------------------------------------------------------------------------\u001b[0m",
      "\u001b[0;31mNameError\u001b[0m                                 Traceback (most recent call last)",
      "\u001b[0;32m<ipython-input-1-d73a3673b2de>\u001b[0m in \u001b[0;36m<module>\u001b[0;34m()\u001b[0m\n\u001b[1;32m     21\u001b[0m \u001b[0mplt\u001b[0m\u001b[0;34m.\u001b[0m\u001b[0mfigure\u001b[0m\u001b[0;34m(\u001b[0m\u001b[0;36m1\u001b[0m\u001b[0;34m,\u001b[0m\u001b[0mfacecolor\u001b[0m\u001b[0;34m=\u001b[0m\u001b[0;34m'white'\u001b[0m\u001b[0;34m)\u001b[0m\u001b[0;34m\u001b[0m\u001b[0;34m\u001b[0m\u001b[0m\n\u001b[1;32m     22\u001b[0m \u001b[0;34m\u001b[0m\u001b[0m\n\u001b[0;32m---> 23\u001b[0;31m \u001b[0;32mfor\u001b[0m \u001b[0mi\u001b[0m \u001b[0;32min\u001b[0m \u001b[0mxrange\u001b[0m\u001b[0;34m(\u001b[0m\u001b[0;36m0\u001b[0m\u001b[0;34m,\u001b[0m\u001b[0mruns\u001b[0m\u001b[0;34m)\u001b[0m\u001b[0;34m:\u001b[0m\u001b[0;34m\u001b[0m\u001b[0;34m\u001b[0m\u001b[0m\n\u001b[0m\u001b[1;32m     24\u001b[0m     \u001b[0mrate\u001b[0m \u001b[0;34m=\u001b[0m \u001b[0malpha\u001b[0m \u001b[0;34m*\u001b[0m \u001b[0mN\u001b[0m\u001b[0;34m[\u001b[0m\u001b[0;36m1\u001b[0m\u001b[0;34m:\u001b[0m\u001b[0;34m]\u001b[0m \u001b[0;34m*\u001b[0m \u001b[0;34m(\u001b[0m\u001b[0;36m1.0\u001b[0m \u001b[0;34m-\u001b[0m \u001b[0mN\u001b[0m\u001b[0;34m[\u001b[0m\u001b[0;36m1\u001b[0m\u001b[0;34m:\u001b[0m\u001b[0;34m]\u001b[0m \u001b[0;34m/\u001b[0m \u001b[0mK\u001b[0m\u001b[0;34m)\u001b[0m\u001b[0;34m\u001b[0m\u001b[0;34m\u001b[0m\u001b[0m\n\u001b[1;32m     25\u001b[0m     \u001b[0mdt\u001b[0m \u001b[0;34m=\u001b[0m \u001b[0;34m-\u001b[0m \u001b[0mnp\u001b[0m\u001b[0;34m.\u001b[0m\u001b[0mlog\u001b[0m\u001b[0;34m(\u001b[0m\u001b[0;36m1.0\u001b[0m \u001b[0;34m-\u001b[0m \u001b[0mrnd\u001b[0m\u001b[0;34m[\u001b[0m\u001b[0;36m1\u001b[0m\u001b[0;34m:\u001b[0m\u001b[0;34m,\u001b[0m\u001b[0mi\u001b[0m\u001b[0;34m]\u001b[0m\u001b[0;34m)\u001b[0m \u001b[0;34m/\u001b[0m \u001b[0mrate\u001b[0m\u001b[0;34m\u001b[0m\u001b[0;34m\u001b[0m\u001b[0m\n",
      "\u001b[0;31mNameError\u001b[0m: name 'xrange' is not defined"
     ]
    },
    {
     "data": {
      "text/plain": [
       "<Figure size 432x288 with 0 Axes>"
      ]
     },
     "metadata": {},
     "output_type": "display_data"
    }
   ],
   "source": [
    "%matplotlib inline\n",
    "import numpy as np\n",
    "import matplotlib.pyplot as plt\n",
    "import random\n",
    " \n",
    "#Verhulst parameters\n",
    "alpha = .1 #growth rate\n",
    "K = 1000. #carrying capacity\n",
    " \n",
    "#initial condition\n",
    "N_initial = 1.0\n",
    "runs = 100\n",
    "num = int(K)-int(N_initial)+1\n",
    " \n",
    "N = np.linspace(N_initial,K,num)\n",
    "T = np.zeros((num,runs))\n",
    "rnd = np.random.rand(num,runs)\n",
    " \n",
    "T_avg = np.zeros((int(K)-int(N_initial)+1))\n",
    " \n",
    "plt.figure(1,facecolor='white')\n",
    " \n",
    "for i in xrange(0,runs):\n",
    "    rate = alpha * N[1:] * (1.0 - N[1:] / K)\n",
    "    dt = - np.log(1.0 - rnd[1:,i]) / rate\n",
    "    T[1:,i] = np.cumsum(dt)\n",
    "    T_avg += T[:,i]\n",
    "    plt.plot(T,N,color ='b',alpha=0.1,lw = .5)\n",
    "     \n",
    "T_avg = T_avg / float(runs)\n",
    "plt.plot(T_avg,N,color ='k',label ='Averaged Solution',lw =2)\n",
    "N_analytical = (K * N_initial * np.exp(alpha*T_avg))/(K+N_initial*(np.exp(alpha*T_avg)-1.))    \n",
    "plt.plot(T_avg,N_analytical,label='Analytical Solution',ls='--',lw = 2,color ='r')\n",
    "plt.xlabel('t [days]')\n",
    "plt.ylabel('N [population]')\n",
    "plt.savefig('random.png')\n",
    "plt.show()"
   ]
  },
  {
   "cell_type": "code",
   "execution_count": null,
   "metadata": {},
   "outputs": [],
   "source": []
  }
 ],
 "metadata": {
  "kernelspec": {
   "display_name": "Python 3",
   "language": "python",
   "name": "python3"
  },
  "language_info": {
   "codemirror_mode": {
    "name": "ipython",
    "version": 3
   },
   "file_extension": ".py",
   "mimetype": "text/x-python",
   "name": "python",
   "nbconvert_exporter": "python",
   "pygments_lexer": "ipython3",
   "version": "3.6.8"
  },
  "toc": {
   "base_numbering": 1,
   "nav_menu": {},
   "number_sections": true,
   "sideBar": true,
   "skip_h1_title": false,
   "title_cell": "Table of Contents",
   "title_sidebar": "Contents",
   "toc_cell": false,
   "toc_position": {},
   "toc_section_display": true,
   "toc_window_display": false
  }
 },
 "nbformat": 4,
 "nbformat_minor": 2
}
