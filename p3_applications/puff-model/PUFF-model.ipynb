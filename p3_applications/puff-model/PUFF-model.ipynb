{
 "cells": [
  {
   "cell_type": "markdown",
   "metadata": {},
   "source": [
    "# Volcanic Ash Tracking Model\n",
    "\n",
    "Two Flow fields\n",
    "\n",
    "1. Lagrangian - following the particle, non constant location\n",
    "2. Eulerian - in a constant location, passing of the particle\n",
    "\n",
    "“PUFF: A Lagrangian Trajectory Volcanic Ash Tracking Model” \n"
   ]
  },
  {
   "cell_type": "markdown",
   "metadata": {},
   "source": [
    "# Get meterological input data\n",
    "1. data source Urban Emissions Info India Air quality forecast output"
   ]
  },
  {
   "cell_type": "code",
   "execution_count": null,
   "metadata": {},
   "outputs": [],
   "source": [
    "import PseudoNetCDF as pnc\n",
    "inpath = 'india_met_10days_wrfout.nc'\n",
    "outpath = 'cf_india_met_10days_wrfout.nc'\n",
    "infile = pnc.pncopen(inpath, addcf=True)\n",
    "infile.save(outpath)"
   ]
  },
  {
   "cell_type": "code",
   "execution_count": null,
   "metadata": {},
   "outputs": [],
   "source": [
    "import xarray as xr\n",
    "import numpy as np\n",
    "\n",
    "\n",
    "dataDIR = 'india_met_10days_wrfout.nc'\n",
    "DS = xr.open_dataset(dataDIR)\n",
    "da_u = DS.U\n",
    "\n",
    "hr3_da_u=da_u[1::3]\n",
    "np.save('u.npy', hr3_da_u) \n",
    "da_u=0\n",
    "hr3_da_u=0\n",
    "\n",
    "\n",
    "da_v = DS.V\n",
    "\n",
    "hr3_da_v=da_v[1::3]\n",
    "np.save('v.npy', hr3_da_v) \n",
    "da_v=0\n",
    "hr3_da_v=0\n",
    "\n",
    "da_w = DS.W\n",
    "\n",
    "hr3_da_w=da_w[1::3]\n",
    "np.save('w.npy', hr3_da_w) \n",
    "da_w=0\n",
    "hr3_da_w=0\n",
    "\n",
    "xlat=DS.XLAT\n",
    "hr3_xlat=xlat[1::3]\n",
    "np.save('xlat.npy', hr3_xlat) \n",
    "\n",
    "xlong=DS.XLONG\n",
    "hr3_xlong=xlong[1::3]\n",
    "np.save('xlong.npy', hr3_xlong) \n"
   ]
  },
  {
   "cell_type": "markdown",
   "metadata": {},
   "source": [
    "## check on grid extent and height values"
   ]
  },
  {
   "cell_type": "code",
   "execution_count": null,
   "metadata": {},
   "outputs": [],
   "source": [
    "U = np.load('u_wind.npy')\n",
    "U.shape"
   ]
  },
  {
   "cell_type": "code",
   "execution_count": null,
   "metadata": {},
   "outputs": [],
   "source": [
    "xlong = np.load('xlat.npy')\n",
    "xlong"
   ]
  },
  {
   "cell_type": "code",
   "execution_count": null,
   "metadata": {},
   "outputs": [],
   "source": [
    "xlong = np.load('xlong.npy')\n",
    "xlong"
   ]
  },
  {
   "cell_type": "markdown",
   "metadata": {},
   "source": [
    "# Importing the requeried modules"
   ]
  },
  {
   "cell_type": "code",
   "execution_count": 1,
   "metadata": {},
   "outputs": [],
   "source": [
    "#Code from http://publish.illinois.edu/pillsburydoughcat/puff-model/puff-model-supplementary-material/\n",
    "\n",
    "import numpy\n",
    "import matplotlib.pyplot as plt\n",
    "from mpl_toolkits.mplot3d import Axes3D\n",
    "from mpl_toolkits.basemap import Basemap\n",
    "\n",
    "\n",
    "## variables\n",
    "from variables import Rnew\n",
    "from variables import Rold\n",
    "from variables import R_step1\n",
    "from variables import R_step2\n",
    "from variables import R_step3\n",
    "from variables import R_step4\n",
    "from variables import Active\n",
    "\n",
    "## Intials\n",
    "from initial import initial\n",
    "\n",
    "## degree_conversion \n",
    "from degree_conversion import degree_to_dx\n",
    "\n",
    "## dispersion \n",
    "from dispersionx import dispersionx\n",
    "from dispersiony import dispersiony\n",
    "from dispersionz import dispersionz\n",
    "\n",
    "## settling\n",
    "from settling import settling\n",
    "\n",
    "## advection\n",
    "from advectionx import advectionx\n",
    "from advectiony import advectiony\n",
    "from advectionz import advectionz"
   ]
  },
  {
   "cell_type": "markdown",
   "metadata": {},
   "source": [
    "## Model parameters"
   ]
  },
  {
   "cell_type": "code",
   "execution_count": 2,
   "metadata": {},
   "outputs": [],
   "source": [
    "import numpy as np\n",
    "#parameters\n",
    " \n",
    "num_particles = 1000\n",
    "time = 5.0 #days\n",
    "dt = 10.0 * 60.#minutes\n",
    "time_steps = int(time * 24.0 * 3600. / dt) + 1\n",
    " \n",
    "D_log = np.zeros((num_particles))\n",
    "for i in range(0,num_particles):\n",
    "    D_log[i] = np.random.normal(-5.0,2.5)\n",
    "\n",
    "#diameter of the particle\n",
    "D = 10. ** (D_log)\n",
    "\n",
    "# horizontal dispersion coefficient \n",
    "K_h = 2.0 * (10. **4.)\n",
    "# vertical dispersion coefficient\n",
    "K_v = 10.\n",
    "\n",
    "#initial location of the particles, i.e. the volcano location \n",
    "start_lat = 12.283729\n",
    "start_lon = 93.861916\n",
    "\n",
    "#the spread of the initial plume, in decimal degrees. \n",
    "sigma_lon = .01\n",
    "sigma_lat = .01\n",
    "\n",
    "#meterological paramters \n",
    "U = np.load('u_wind.npy')\n",
    "V = np.load('v_wind.npy')\n",
    "W = np.load('w_wind.npy')\n",
    " \n",
    "\n",
    "alt_coor = np.linspace(0,40000,41)\n",
    "lat_coor = np.linspace(3,40,161)\n",
    "lon_coor = np.linspace(64.,101.,161)"
   ]
  },
  {
   "cell_type": "markdown",
   "metadata": {},
   "source": [
    "## Model variables "
   ]
  },
  {
   "cell_type": "code",
   "execution_count": 3,
   "metadata": {},
   "outputs": [],
   "source": [
    " \n",
    "#particle #,  location of paritcles\n",
    "Rnew = np.zeros((num_particles,3)) #lat,lon,alt\n",
    "Rold = np.zeros((num_particles,3)) #lat,lon,alt\n",
    "R_step1 = np.zeros((num_particles,3)) #lat,lon,alt\n",
    "R_step2 = np.zeros((num_particles,3)) #lat,lon,alt\n",
    "R_step3 = np.zeros((num_particles,3)) #lat,lon,alt\n",
    "R_step4 = np.zeros((num_particles,3)) #lat,lon,alt\n",
    "Active = np.ones((num_particles)) #lat,lon,alt"
   ]
  },
  {
   "cell_type": "markdown",
   "metadata": {},
   "source": [
    "## Setting the initial condition"
   ]
  },
  {
   "cell_type": "code",
   "execution_count": 6,
   "metadata": {},
   "outputs": [],
   "source": [
    "#[height,lat,lon]; [z,y,x]\n",
    "\n",
    "R = np.zeros((num_particles,3))\n",
    " \n",
    "def initial(sigma_lat,sigma_lon):\n",
    "    for i in range(0,num_particles):\n",
    "        R[i,0] = 15000.* np.random.uniform()\n",
    "        R[i,1] = np.random.normal(start_lat,sigma_lat)\n",
    "        R[i,2] = np.random.normal(start_lon,sigma_lon)\n",
    " \n",
    "    return R\n",
    "\n",
    "Rold = initial(sigma_lat,sigma_lon)\n",
    " \n",
    "lon1 = 65.\n",
    "lon2 = 105.\n",
    "lat1 = -5.\n",
    "lat2 = 40."
   ]
  },
  {
   "cell_type": "markdown",
   "metadata": {},
   "source": [
    "## Ploting 2d imagery of the location"
   ]
  },
  {
   "cell_type": "code",
   "execution_count": 8,
   "metadata": {},
   "outputs": [
    {
     "data": {
      "text/plain": [
       "Text(0.5,1,'Particle Trajectory')"
      ]
     },
     "execution_count": 8,
     "metadata": {},
     "output_type": "execute_result"
    },
    {
     "data": {
      "image/png": "[encoded data removed]",
      "text/plain": [
       "<Figure size 432x288 with 1 Axes>"
      ]
     },
     "metadata": {},
     "output_type": "display_data"
    }
   ],
   "source": [
    "plt.figure(2)\n",
    "m = Basemap(llcrnrlon=lon1,llcrnrlat=lat1,urcrnrlon=lon2,urcrnrlat=lat2,\n",
    "            projection='lcc',lon_0=start_lon,lat_0=start_lat,\n",
    "            resolution ='l',area_thresh=1000.)\n",
    "m.drawcoastlines(linewidth=0.25)\n",
    "#m.drawcountries(linewidth=0.25)\n",
    "m.drawparallels(np.arange(lat1,lat2,10),labels=[1,1,0,0])\n",
    "m.drawmeridians(np.arange(lon1,lon2,10),labels=[0,0,0,1])\n",
    "x, y = m(Rold[:,2],Rold[:,1])\n",
    "m.scatter(x,y,s=20,marker='o',color='r',zorder=10)\n",
    "plt.title('Particle Trajectory')"
   ]
  },
  {
   "cell_type": "markdown",
   "metadata": {},
   "source": [
    "## Ploting 3d imagery of the location"
   ]
  },
  {
   "cell_type": "code",
   "execution_count": 9,
   "metadata": {},
   "outputs": [
    {
     "data": {
      "text/plain": [
       "Text(0.5,0.92,'Particle Trajectory')"
      ]
     },
     "execution_count": 9,
     "metadata": {},
     "output_type": "execute_result"
    },
    {
     "data": {
      "image/png": "[encoded data removed]",
      "text/plain": [
       "<Figure size 432x288 with 1 Axes>"
      ]
     },
     "metadata": {},
     "output_type": "display_data"
    }
   ],
   "source": [
    "fig = plt.figure(1,facecolor = 'white')\n",
    "ax = fig.add_subplot(111, projection='3d')\n",
    "ax.set_xlabel('longitude [decimal degees]')\n",
    "ax.set_ylabel('latitude [decimal degees]')\n",
    "ax.set_zlabel('altitude [meters]')\n",
    "ax.set_zlim(0,20000)\n",
    "ax.set_ylim(lat1,lat2)\n",
    "ax.set_xlim(lon1,lon2)\n",
    "ax.scatter(Rold[:,2],Rold[:,1],Rold[:,0],c='r',s=10)\n",
    "ax.set_title('Particle Trajectory')"
   ]
  },
  {
   "cell_type": "markdown",
   "metadata": {},
   "source": [
    "# simulate for single timestep"
   ]
  },
  {
   "cell_type": "code",
   "execution_count": null,
   "metadata": {},
   "outputs": [],
   "source": [
    "## setting the time"
   ]
  },
  {
   "cell_type": "code",
   "execution_count": 10,
   "metadata": {},
   "outputs": [],
   "source": [
    "t=1\n",
    "t_index = int(float(t)/float(time_steps)*20.)\n",
    "t_time_1 = float(t)/float(time_steps)*20.\n",
    "t_time_2 = (float(t)+0.5)/float(time_steps)*20.\n",
    "t_time_3 = (float(t)+0.5)/float(time_steps)*20.\n",
    "t_time_4 = (float(t)+1.0)/float(time_steps)*20.   \n",
    "\n",
    "dx_lat, dx_lon = degree_to_dx(R)"
   ]
  },
  {
   "cell_type": "markdown",
   "metadata": {},
   "source": [
    "## Using RUNGA KUTTA method for advect, disperse, and settle a particle to a new location\n",
    "used in temporal discretization for the approximate solutions of ordinary differential equations"
   ]
  },
  {
   "cell_type": "code",
   "execution_count": 11,
   "metadata": {},
   "outputs": [],
   "source": [
    "\n",
    "R_step1[:,:] = 0.0\n",
    "R_step2[:,:] = 0.0\n",
    "R_step3[:,:] = 0.0\n",
    "R_step4[:,:] = 0.0"
   ]
  },
  {
   "cell_type": "markdown",
   "metadata": {},
   "source": [
    "### dispersion"
   ]
  },
  {
   "cell_type": "code",
   "execution_count": 12,
   "metadata": {},
   "outputs": [],
   "source": [
    "dispz_temp = dispersionz(Active) * dt\n",
    "dispy_temp = dispersiony(Active) * dt / dx_lat\n",
    "dispx_temp = dispersionx(Active) * dt / dx_lon\n",
    "R_step1[:,0] += dispz_temp\n",
    "R_step2[:,0] += dispz_temp\n",
    "R_step3[:,0] += dispz_temp\n",
    "R_step4[:,0] += dispz_temp\n",
    "R_step1[:,1] += dispy_temp\n",
    "R_step2[:,1] += dispy_temp\n",
    "R_step3[:,1] += dispy_temp\n",
    "R_step4[:,1] += dispy_temp\n",
    "R_step1[:,2] += dispx_temp\n",
    "R_step2[:,2] += dispx_temp\n",
    "R_step3[:,2] += dispx_temp\n",
    "R_step4[:,2] += dispx_temp"
   ]
  },
  {
   "cell_type": "markdown",
   "metadata": {},
   "source": [
    "### settling"
   ]
  },
  {
   "cell_type": "code",
   "execution_count": 13,
   "metadata": {},
   "outputs": [],
   "source": [
    "R_step1[:,0] -= settling(D,Active) * dt\n",
    "R_step2[:,0] -= settling(D,Active) * dt\n",
    "R_step3[:,0] -= settling(D,Active) * dt\n",
    "R_step4[:,0] -= settling(D,Active) * dt"
   ]
  },
  {
   "cell_type": "markdown",
   "metadata": {},
   "source": [
    "### Advection"
   ]
  },
  {
   "cell_type": "code",
   "execution_count": 15,
   "metadata": {},
   "outputs": [
    {
     "name": "stderr",
     "output_type": "stream",
     "text": [
      "/opt/conda/lib/python3.6/site-packages/ipykernel_launcher.py:23: RuntimeWarning: divide by zero encountered in true_divide\n"
     ]
    }
   ],
   "source": [
    "W=np.load('w_wind.npy')\n",
    "#Rold,Active,t_index,t_time_1\n",
    "T=0\n",
    "R=Rold\n",
    "alt_part = R[i,0]\n",
    "lat_part = R[i,1]\n",
    "lon_part = R[i,2]\n",
    "a = int(R[i,0]/40000.*40.)\n",
    "b = int((R[i,1]+90.)/180.*73.)\n",
    "c = int(R[i,2]/360.*144.)\n",
    "\n",
    "alt_coor = np.linspace(0,40000,41)\n",
    "lat_coor = np.linspace(3,40,161)\n",
    "lon_coor = np.linspace(64.,101.,161)\n",
    "\n",
    "\n",
    "if a == 29:\n",
    "    a_high = a\n",
    "else:\n",
    "    a_high = a+1\n",
    "\n",
    "alt_low = alt_coor[a]\n",
    "alt_high = alt_coor[a_high]\n",
    "lat_down = lat_coor[b]\n",
    "lat_up = lat_coor[b+1]\n",
    "lon_left = lon_coor\n",
    "lon_right = lon_coor\n",
    "\n",
    "interp_x1 = (lon_part - lon_left) / (lon_right - lon_left) * (W[T,a,b,c+1] - W[T,a,b,c]) + W[T,a,b,c]"
   ]
  },
  {
   "cell_type": "code",
   "execution_count": null,
   "metadata": {},
   "outputs": [],
   "source": [
    "alt_coor = np.linspace(0,29000,30)\n",
    "lat_coor = np.linspace(-90.,90.,73)\n",
    "lon_coor = np.linspace(0.,360.,144)"
   ]
  },
  {
   "cell_type": "code",
   "execution_count": 14,
   "metadata": {},
   "outputs": [
    {
     "name": "stderr",
     "output_type": "stream",
     "text": [
      "/home/sunbird/Documents/april_2019/working_notes/NOgit_othernotes/Learning-Calculus-with-Python/p3_applications/puff-model/advectionz.py:30: RuntimeWarning: divide by zero encountered in true_divide\n",
      "  interp_x1 = (lon_part - lon_left) / (lon_right - lon_left) * (W[T,a,b,c+1] - W[T,a,b,c]) + W[T,a,b,c]\n",
      "/home/sunbird/Documents/april_2019/working_notes/NOgit_othernotes/Learning-Calculus-with-Python/p3_applications/puff-model/advectionz.py:31: RuntimeWarning: divide by zero encountered in true_divide\n",
      "  interp_x2 = (lon_part - lon_left) / (lon_right - lon_left) * (W[T,a,b+1,c+1] - W[T,a,b+1,c]) + W[T,a,b+1,c]\n",
      "/home/sunbird/Documents/april_2019/working_notes/NOgit_othernotes/Learning-Calculus-with-Python/p3_applications/puff-model/advectionz.py:32: RuntimeWarning: divide by zero encountered in true_divide\n",
      "  interp_x3 = (lon_part - lon_left) / (lon_right - lon_left) * (W[T,a_high,b,c+1] - W[T,a_high,b,c]) + W[T,a_high,b,c]\n",
      "/home/sunbird/Documents/april_2019/working_notes/NOgit_othernotes/Learning-Calculus-with-Python/p3_applications/puff-model/advectionz.py:33: RuntimeWarning: divide by zero encountered in true_divide\n",
      "  interp_x4 = (lon_part - lon_left) / (lon_right - lon_left) * (W[T,a_high,b+1,c+1] - W[T,a_high,b+1,c]) + W[T,a_high,b+1,c]\n",
      "/home/sunbird/Documents/april_2019/working_notes/NOgit_othernotes/Learning-Calculus-with-Python/p3_applications/puff-model/advectionz.py:35: RuntimeWarning: invalid value encountered in subtract\n",
      "  interp_y1 = (lat_part - lat_down) / (lat_up - lat_down) * (interp_x2 - interp_x1) + interp_x1\n",
      "/home/sunbird/Documents/april_2019/working_notes/NOgit_othernotes/Learning-Calculus-with-Python/p3_applications/puff-model/advectionz.py:36: RuntimeWarning: invalid value encountered in subtract\n",
      "  interp_y2 = (lat_part - lat_down) / (lat_up - lat_down) * (interp_x4 - interp_x3) + interp_x3\n",
      "/home/sunbird/Documents/april_2019/working_notes/NOgit_othernotes/Learning-Calculus-with-Python/p3_applications/puff-model/advectionz.py:44: RuntimeWarning: divide by zero encountered in true_divide\n",
      "  interp_x1 = (lon_part - lon_left) / (lon_right - lon_left) * (W[T+1,a,b,c+1] - W[T+1,a,b,c]) + W[T+1,a,b,c]\n",
      "/home/sunbird/Documents/april_2019/working_notes/NOgit_othernotes/Learning-Calculus-with-Python/p3_applications/puff-model/advectionz.py:45: RuntimeWarning: divide by zero encountered in true_divide\n",
      "  interp_x2 = (lon_part - lon_left) / (lon_right - lon_left) * (W[T+1,a,b+1,c+1] - W[T+1,a,b+1,c]) + W[T+1,a,b+1,c]\n",
      "/home/sunbird/Documents/april_2019/working_notes/NOgit_othernotes/Learning-Calculus-with-Python/p3_applications/puff-model/advectionz.py:46: RuntimeWarning: divide by zero encountered in true_divide\n",
      "  interp_x3 = (lon_part - lon_left) / (lon_right - lon_left) * (W[T+1,a_high,b,c+1] - W[T+1,a_high,b,c]) + W[T+1,a_high,b,c]\n",
      "/home/sunbird/Documents/april_2019/working_notes/NOgit_othernotes/Learning-Calculus-with-Python/p3_applications/puff-model/advectionz.py:47: RuntimeWarning: divide by zero encountered in true_divide\n",
      "  interp_x4 = (lon_part - lon_left) / (lon_right - lon_left) * (W[T+1,a_high,b+1,c+1] - W[T+1,a_high,b+1,c]) + W[T+1,a_high,b+1,c]\n",
      "/home/sunbird/Documents/april_2019/working_notes/NOgit_othernotes/Learning-Calculus-with-Python/p3_applications/puff-model/advectionz.py:49: RuntimeWarning: invalid value encountered in subtract\n",
      "  interp_y1 = (lat_part - lat_down) / (lat_up - lat_down) * (interp_x2 - interp_x1) + interp_x1\n"
     ]
    },
    {
     "ename": "ValueError",
     "evalue": "setting an array element with a sequence.",
     "output_type": "error",
     "traceback": [
      "\u001b[0;31m---------------------------------------------------------------------------\u001b[0m",
      "\u001b[0;31mValueError\u001b[0m                                Traceback (most recent call last)",
      "\u001b[0;32m<ipython-input-14-ac39f12fa6f8>\u001b[0m in \u001b[0;36m<module>\u001b[0;34m()\u001b[0m\n\u001b[0;32m----> 1\u001b[0;31m \u001b[0mR_step1\u001b[0m\u001b[0;34m[\u001b[0m\u001b[0;34m:\u001b[0m\u001b[0;34m,\u001b[0m\u001b[0;36m0\u001b[0m\u001b[0;34m]\u001b[0m \u001b[0;34m+=\u001b[0m \u001b[0madvectionz\u001b[0m\u001b[0;34m(\u001b[0m\u001b[0mRold\u001b[0m\u001b[0;34m,\u001b[0m\u001b[0mActive\u001b[0m\u001b[0;34m,\u001b[0m\u001b[0mt_index\u001b[0m\u001b[0;34m,\u001b[0m\u001b[0mt_time_1\u001b[0m\u001b[0;34m)\u001b[0m \u001b[0;34m*\u001b[0m \u001b[0mdt\u001b[0m\u001b[0;34m\u001b[0m\u001b[0;34m\u001b[0m\u001b[0m\n\u001b[0m\u001b[1;32m      2\u001b[0m \u001b[0mR_step1\u001b[0m\u001b[0;34m[\u001b[0m\u001b[0;34m:\u001b[0m\u001b[0;34m,\u001b[0m\u001b[0;36m1\u001b[0m\u001b[0;34m]\u001b[0m \u001b[0;34m+=\u001b[0m \u001b[0madvectiony\u001b[0m\u001b[0;34m(\u001b[0m\u001b[0mRold\u001b[0m\u001b[0;34m,\u001b[0m\u001b[0mActive\u001b[0m\u001b[0;34m,\u001b[0m\u001b[0mt_index\u001b[0m\u001b[0;34m,\u001b[0m\u001b[0mt_time_1\u001b[0m\u001b[0;34m)\u001b[0m \u001b[0;34m*\u001b[0m \u001b[0mdt\u001b[0m \u001b[0;34m/\u001b[0m \u001b[0mdx_lat\u001b[0m\u001b[0;34m\u001b[0m\u001b[0;34m\u001b[0m\u001b[0m\n\u001b[1;32m      3\u001b[0m \u001b[0mR_step1\u001b[0m\u001b[0;34m[\u001b[0m\u001b[0;34m:\u001b[0m\u001b[0;34m,\u001b[0m\u001b[0;36m2\u001b[0m\u001b[0;34m]\u001b[0m \u001b[0;34m+=\u001b[0m \u001b[0madvectionx\u001b[0m\u001b[0;34m(\u001b[0m\u001b[0mRold\u001b[0m\u001b[0;34m,\u001b[0m\u001b[0mActive\u001b[0m\u001b[0;34m,\u001b[0m\u001b[0mt_index\u001b[0m\u001b[0;34m,\u001b[0m\u001b[0mt_time_1\u001b[0m\u001b[0;34m)\u001b[0m \u001b[0;34m*\u001b[0m \u001b[0mdt\u001b[0m \u001b[0;34m/\u001b[0m \u001b[0mdx_lon\u001b[0m\u001b[0;34m\u001b[0m\u001b[0;34m\u001b[0m\u001b[0m\n\u001b[1;32m      4\u001b[0m \u001b[0mR_step2\u001b[0m\u001b[0;34m[\u001b[0m\u001b[0;34m:\u001b[0m\u001b[0;34m,\u001b[0m\u001b[0;36m0\u001b[0m\u001b[0;34m]\u001b[0m \u001b[0;34m+=\u001b[0m \u001b[0madvectionz\u001b[0m\u001b[0;34m(\u001b[0m\u001b[0mRold\u001b[0m\u001b[0;34m+\u001b[0m\u001b[0mR_step1\u001b[0m\u001b[0;34m/\u001b[0m\u001b[0;36m2.0\u001b[0m\u001b[0;34m,\u001b[0m\u001b[0mActive\u001b[0m\u001b[0;34m,\u001b[0m\u001b[0mt_index\u001b[0m\u001b[0;34m,\u001b[0m\u001b[0mt_time_2\u001b[0m\u001b[0;34m)\u001b[0m \u001b[0;34m*\u001b[0m \u001b[0mdt\u001b[0m\u001b[0;34m\u001b[0m\u001b[0;34m\u001b[0m\u001b[0m\n\u001b[1;32m      5\u001b[0m \u001b[0mR_step2\u001b[0m\u001b[0;34m[\u001b[0m\u001b[0;34m:\u001b[0m\u001b[0;34m,\u001b[0m\u001b[0;36m1\u001b[0m\u001b[0;34m]\u001b[0m \u001b[0;34m+=\u001b[0m \u001b[0madvectiony\u001b[0m\u001b[0;34m(\u001b[0m\u001b[0mRold\u001b[0m\u001b[0;34m+\u001b[0m\u001b[0mR_step1\u001b[0m\u001b[0;34m/\u001b[0m\u001b[0;36m2.0\u001b[0m\u001b[0;34m,\u001b[0m\u001b[0mActive\u001b[0m\u001b[0;34m,\u001b[0m\u001b[0mt_index\u001b[0m\u001b[0;34m,\u001b[0m\u001b[0mt_time_2\u001b[0m\u001b[0;34m)\u001b[0m \u001b[0;34m*\u001b[0m \u001b[0mdt\u001b[0m \u001b[0;34m/\u001b[0m \u001b[0mdx_lat\u001b[0m\u001b[0;34m\u001b[0m\u001b[0;34m\u001b[0m\u001b[0m\n",
      "\u001b[0;32m/home/sunbird/Documents/april_2019/working_notes/NOgit_othernotes/Learning-Calculus-with-Python/p3_applications/puff-model/advectionz.py\u001b[0m in \u001b[0;36madvectionz\u001b[0;34m(R, A, T, t)\u001b[0m\n\u001b[1;32m     55\u001b[0m                 \u001b[0mW_interp_2\u001b[0m \u001b[0;34m=\u001b[0m \u001b[0;34m(\u001b[0m\u001b[0malt_part\u001b[0m \u001b[0;34m-\u001b[0m \u001b[0malt_low\u001b[0m\u001b[0;34m)\u001b[0m \u001b[0;34m/\u001b[0m \u001b[0;34m(\u001b[0m\u001b[0malt_high\u001b[0m \u001b[0;34m-\u001b[0m \u001b[0malt_low\u001b[0m\u001b[0;34m)\u001b[0m \u001b[0;34m*\u001b[0m \u001b[0;34m(\u001b[0m\u001b[0minterp_y2\u001b[0m \u001b[0;34m-\u001b[0m \u001b[0minterp_y1\u001b[0m\u001b[0;34m)\u001b[0m \u001b[0;34m+\u001b[0m \u001b[0minterp_y1\u001b[0m\u001b[0;34m\u001b[0m\u001b[0;34m\u001b[0m\u001b[0m\n\u001b[1;32m     56\u001b[0m \u001b[0;34m\u001b[0m\u001b[0m\n\u001b[0;32m---> 57\u001b[0;31m             \u001b[0mR_advection\u001b[0m\u001b[0;34m[\u001b[0m\u001b[0mi\u001b[0m\u001b[0;34m]\u001b[0m \u001b[0;34m=\u001b[0m  \u001b[0;34m(\u001b[0m\u001b[0mW_interp_2\u001b[0m \u001b[0;34m-\u001b[0m \u001b[0mW_interp_1\u001b[0m\u001b[0;34m)\u001b[0m \u001b[0;34m/\u001b[0m \u001b[0;36m1.0\u001b[0m \u001b[0;34m*\u001b[0m \u001b[0;34m(\u001b[0m\u001b[0mt\u001b[0m \u001b[0;34m-\u001b[0m \u001b[0mfloat\u001b[0m\u001b[0;34m(\u001b[0m\u001b[0mT\u001b[0m\u001b[0;34m)\u001b[0m\u001b[0;34m)\u001b[0m \u001b[0;34m+\u001b[0m \u001b[0mW_interp_1\u001b[0m\u001b[0;34m\u001b[0m\u001b[0;34m\u001b[0m\u001b[0m\n\u001b[0m\u001b[1;32m     58\u001b[0m \u001b[0;34m\u001b[0m\u001b[0m\n\u001b[1;32m     59\u001b[0m         \u001b[0;32melse\u001b[0m\u001b[0;34m:\u001b[0m\u001b[0;34m\u001b[0m\u001b[0;34m\u001b[0m\u001b[0m\n",
      "\u001b[0;31mValueError\u001b[0m: setting an array element with a sequence."
     ]
    }
   ],
   "source": [
    "R_step1[:,0] += advectionz(Rold,Active,t_index,t_time_1) * dt\n",
    "R_step1[:,1] += advectiony(Rold,Active,t_index,t_time_1) * dt / dx_lat\n",
    "R_step1[:,2] += advectionx(Rold,Active,t_index,t_time_1) * dt / dx_lon\n",
    "R_step2[:,0] += advectionz(Rold+R_step1/2.0,Active,t_index,t_time_2) * dt\n",
    "R_step2[:,1] += advectiony(Rold+R_step1/2.0,Active,t_index,t_time_2) * dt / dx_lat\n",
    "R_step2[:,2] += advectionx(Rold+R_step1/2.0,Active,t_index,t_time_2) * dt / dx_lon\n",
    "R_step3[:,0] += advectionz(Rold+R_step2/2.0,Active,t_index,t_time_3) * dt\n",
    "R_step3[:,1] += advectiony(Rold+R_step2/2.0,Active,t_index,t_time_3) * dt / dx_lat\n",
    "R_step3[:,2] += advectionx(Rold+R_step2/2.0,Active,t_index,t_time_3) * dt / dx_lon\n",
    "R_step4[:,0] += advectionz(Rold+R_step3,Active,t_index,t_time_4) * dt\n",
    "R_step4[:,1] += advectiony(Rold+R_step3,Active,t_index,t_time_4) * dt / dx_lat\n",
    "R_step4[:,2] += advectionx(Rold+R_step3,Active,t_index,t_time_4) * dt / dx_lon\n",
    "\n",
    "Rnew =  Rold + R_step1/6.0 + R_step2/3.0 + R_step3/3.0 + R_step4/6.0   \n",
    "Active, Rnew[:,0] = landed(Rnew[:,0],Active)\n",
    "\n",
    "if t%(time_steps/50)==0:\n",
    "    ax.scatter(Rnew[:,2],Rnew[:,1],Rnew[:,0],c='k',s=1,alpha=float(t)/float(time_steps-1)*0.5)\n",
    "    plt.figure(2,facecolor='white')\n",
    "    x, y = m(Rnew[:,2],Rnew[:,1])\n",
    "    m.scatter(x,y,s=1,marker='o',color='k',alpha=float(t)/float(time_steps-1)*0.5,zorder=10)\n",
    "    print(str(int(100.*float(t)/float(time_steps-1))) + '% done')\n",
    "if t%(time_steps/10)==0:\n",
    "    plt.figure(j)\n",
    "    m = Basemap(llcrnrlon=lon1,llcrnrlat=lat1,urcrnrlon=lon2,urcrnrlat=lat2,\n",
    "        projection='lcc',lon_0=start_lon,lat_0=start_lat,\n",
    "        resolution ='l',area_thresh=1000.)\n",
    "    m.drawcoastlines(linewidth=0.25)\n",
    "    m.drawcountries(linewidth=0.25)\n",
    "    m.drawparallels(np.arange(lat1,lat2,10),labels=[1,1,0,0])\n",
    "    m.drawmeridians(np.arange(lon1,lon2,10),labels=[0,0,0,1])\n",
    "    x, y = m(start_lon,start_lat)\n",
    "    m.scatter(x,y,s=20,marker='o',color='r',zorder=10)\n",
    "    x, y = m(Rnew[:,2],Rnew[:,1])\n",
    "    m.scatter(x,y,s=2,marker='o',color='k',zorder=10,alpha=0.5)\n",
    "    plt.title('Plume after ' + str((j-2)*12) + ' hrs')\n",
    "\n",
    "    fig = plt.figure(j+10,facecolor = 'white')\n",
    "    axx = fig.add_subplot(111, projection='3d')\n",
    "    axx.set_xlabel('longitude [decimal degees]')\n",
    "    axx.set_ylabel('latitude [decimal degees]')\n",
    "    axx.set_zlabel('altitude [meters]')\n",
    "    axx.set_zlim(0,20000)\n",
    "    axx.set_ylim(lat1,lat2)\n",
    "    axx.set_xlim(lon1,lon2)\n",
    "    axx.scatter(Rnew[:,2],Rnew[:,1],Rnew[:,0],c='k',s=1)\n",
    "    axx.set_title('Plume after ' + str((j-2)*12) + ' hrs')\n",
    "    j+=1\n",
    "\n",
    "Rold = Rnew"
   ]
  },
  {
   "cell_type": "code",
   "execution_count": null,
   "metadata": {},
   "outputs": [],
   "source": [
    "W.shape"
   ]
  },
  {
   "cell_type": "code",
   "execution_count": null,
   "metadata": {},
   "outputs": [],
   "source": []
  }
 ],
 "metadata": {
  "kernelspec": {
   "display_name": "Python 3",
   "language": "python",
   "name": "python3"
  },
  "language_info": {
   "codemirror_mode": {
    "name": "ipython",
    "version": 3
   },
   "file_extension": ".py",
   "mimetype": "text/x-python",
   "name": "python",
   "nbconvert_exporter": "python",
   "pygments_lexer": "ipython3",
   "version": "3.6.8"
  },
  "toc": {
   "base_numbering": 1,
   "nav_menu": {},
   "number_sections": true,
   "sideBar": true,
   "skip_h1_title": false,
   "title_cell": "Table of Contents",
   "title_sidebar": "Contents",
   "toc_cell": false,
   "toc_position": {},
   "toc_section_display": true,
   "toc_window_display": false
  }
 },
 "nbformat": 4,
 "nbformat_minor": 2
}
