{
 "cells": [
  {
   "cell_type": "markdown",
   "metadata": {},
   "source": [
    "## Integration of simple function"
   ]
  },
  {
   "cell_type": "code",
   "execution_count": 9,
   "metadata": {
    "ExecuteTime": {
     "end_time": "2019-07-12T06:53:53.808284Z",
     "start_time": "2019-07-12T06:53:53.793718Z"
    }
   },
   "outputs": [
    {
     "name": "stdout",
     "output_type": "stream",
     "text": [
      "271.97134913893143\n"
     ]
    }
   ],
   "source": [
    "#Code from http://publish.illinois.edu/pillsburydoughcat/hw1/hw1-supplementary-material/\n",
    "#GEOL 497 – HW 1 – Problem 1\n",
    "#libraries\n",
    "from scipy import integrate\n",
    "import numpy\n",
    "\n",
    "#method\n",
    "method = 1 #0, scipy; 1, own; 2, analytical\n",
    "a = 1.\n",
    "b = .01\n",
    "c = 1.\n",
    "lower_lim = 0. #lower limit of itegral\n",
    "upper_lim = 100. #upper limit of itegral\n",
    "cells = 10 # number of cells in own method\n",
    "\n",
    "#function- this is the equation\n",
    "def equation(x,a,b,c):\n",
    "    return (a*numpy.exp(b*x))+c\n",
    "\n",
    "def inte(a,b,c,method,lower_lim,upper_lim,cells): #integrating function\n",
    "    if method == 0: #scipy method\n",
    "        ans = integrate.quad(equation,lower_lim,upper_lim,args=(a,b,c))\n",
    "    elif method == 1:#trapezoidal integration\n",
    "        dx = (upper_lim - lower_lim)/cells\n",
    "        ans = 0.0\n",
    "        for i in range(0,cells):\n",
    "            ans = ans + dx/2.0*(equation(dx*i,a,b,c)+equation(dx*(i+1),a,b,c))\n",
    "    elif method ==2: #analytical solution\n",
    "        ans  = a/b*(numpy.exp(b*upper_lim)-numpy.exp(b*lower_lim))+c*(upper_lim-lower_lim)\n",
    "    else: #bad input, need another method\n",
    "        print('invalid method value')\n",
    "    return ans\n",
    "\n",
    "\n",
    "ans = inte(a,b,c,method,lower_lim,upper_lim,cells) #call integration\n",
    "print(ans) #print answer)"
   ]
  },
  {
   "cell_type": "code",
   "execution_count": null,
   "metadata": {},
   "outputs": [],
   "source": [
    "## Make random normal distribution"
   ]
  },
  {
   "cell_type": "code",
   "execution_count": 14,
   "metadata": {
    "ExecuteTime": {
     "end_time": "2019-07-12T06:57:15.698478Z",
     "start_time": "2019-07-12T06:57:15.306919Z"
    }
   },
   "outputs": [
    {
     "data": {
      "image/png": "[encoded data removed]",
      "text/plain": [
       "<Figure size 432x288 with 1 Axes>"
      ]
     },
     "metadata": {},
     "output_type": "display_data"
    }
   ],
   "source": [
    "#Code from http://publish.illinois.edu/pillsburydoughcat/hw1/hw1-supplementary-material/\n",
    "#GEOL 497 – HW 1 – Problem 2\n",
    "#libraries\n",
    "import numpy\n",
    "import random\n",
    "import matplotlib.pyplot as plt\n",
    "\n",
    "num_pts = int(1E4) #number of points\n",
    "avg = 0. #mean\n",
    "b = 1. #standard deviation\n",
    "n = 100 #number of bins\n",
    "\n",
    "def hist(avg,b,n,num_pts): #histogram function\n",
    "    x = numpy.zeros(num_pts) #x array\n",
    "    for i in range(0,num_pts): #fill with random numbers\n",
    "        x[i] = random.gauss(avg,b)\n",
    "    plt.hist(x,bins=n) #histogram\n",
    "    plt.title('Normal Distribution Historgram') #title\n",
    "    plt.xlabel('value') #x label\n",
    "    plt.ylabel('frequency') # y label\n",
    "    plt.show() # show plot\n",
    "\n",
    "hist(avg,b,n,num_pts) #call function"
   ]
  },
  {
   "cell_type": "markdown",
   "metadata": {},
   "source": [
    "## Numerically approximates the volume of 3-sphere"
   ]
  },
  {
   "cell_type": "code",
   "execution_count": 17,
   "metadata": {
    "ExecuteTime": {
     "end_time": "2019-07-12T07:00:34.844430Z",
     "start_time": "2019-07-12T07:00:34.794054Z"
    }
   },
   "outputs": [
    {
     "name": "stdout",
     "output_type": "stream",
     "text": [
      "3149.0\n",
      "3084.251375340424\n"
     ]
    }
   ],
   "source": [
    "#Code from http://publish.illinois.edu/pillsburydoughcat/hw1/hw1-supplementary-material/\n",
    "#GEOL 497 – HW 1 – Problem 3\n",
    "#libraries\n",
    "import numpy\n",
    "import random\n",
    "\n",
    "#Monte Carlo Integration\n",
    "#guess a value in a uniform distrbution of known value\n",
    "#and check to see if pt is within boundary. ration is an estimate\n",
    "#of volume\n",
    "dimension = 4 #2 for circle, 3 for tradional sphere, 4 for 3-sphere\n",
    "num_rnd = 10000 #number of random guesses\n",
    "r = 5. #radius in cm\n",
    "bol = numpy.zeros((num_rnd),dtype=int) #number of pts in boundary\n",
    "\n",
    "known_V = (2.0*r)**float(dimension) #volume of guessing area\n",
    "ratio_num=0#counter\n",
    "\n",
    "for i in range(0,num_rnd):\n",
    "    sum_cir = 0#guess\n",
    "    for j in range(0,dimension): #guess by dimension\n",
    "        guess = r * (random.random() * 2.0-1.0)\n",
    "        sum_cir+=guess**2.0\n",
    "    if sum_cir<=r**2.0:#add a value is point in bounding box\n",
    "        ratio_num+=1\n",
    "\n",
    "#volume estimation\n",
    "guessed_V = float(ratio_num)/float(num_rnd)*known_V\n",
    "V_2 = numpy.pi*(r**2.0)\n",
    "V_3 = 4.0/3.0*numpy.pi*(r**3.0)\n",
    "V_4 = 1.0/2.0*(numpy.pi**2.0)*(r**4.0)\n",
    "\n",
    "#print answer\n",
    "print(guessed_V)\n",
    "if dimension ==2:\n",
    "    print(V_2)\n",
    "elif dimension ==3:\n",
    "    print(V_3)\n",
    "elif dimension ==4:\n",
    "    print(V_4)\n",
    "else:\n",
    "    print('bad input')"
   ]
  },
  {
   "cell_type": "markdown",
   "metadata": {},
   "source": [
    "## Applications of Integration\n",
    "\n",
    "\n",
    "https://www.whitman.edu/mathematics/acalculus_online/chapter09.html\n",
    "    \n",
    "    "
   ]
  },
  {
   "cell_type": "code",
   "execution_count": null,
   "metadata": {},
   "outputs": [],
   "source": []
  }
 ],
 "metadata": {
  "kernelspec": {
   "display_name": "Python 3",
   "language": "python",
   "name": "python3"
  },
  "language_info": {
   "codemirror_mode": {
    "name": "ipython",
    "version": 3
   },
   "file_extension": ".py",
   "mimetype": "text/x-python",
   "name": "python",
   "nbconvert_exporter": "python",
   "pygments_lexer": "ipython3",
   "version": "3.6.6"
  },
  "toc": {
   "base_numbering": 1,
   "nav_menu": {},
   "number_sections": true,
   "sideBar": true,
   "skip_h1_title": false,
   "title_cell": "Table of Contents",
   "title_sidebar": "Contents",
   "toc_cell": false,
   "toc_position": {},
   "toc_section_display": true,
   "toc_window_display": false
  }
 },
 "nbformat": 4,
 "nbformat_minor": 2
}
